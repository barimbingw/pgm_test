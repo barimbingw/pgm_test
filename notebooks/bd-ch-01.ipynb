{
 "cells": [
  {
   "cell_type": "code",
   "execution_count": 1,
   "metadata": {},
   "outputs": [],
   "source": [
    "import numpy as np\n",
    "import matplotlib.pyplot as plt\n",
    "import pandas as pd\n",
    "\n",
    "import pgm_utils.Math as pm\n",
    "from pgm_utils.BayesianNetwork import SimpleBN\n",
    "\n",
    "import os, time"
   ]
  },
  {
   "cell_type": "code",
   "execution_count": 2,
   "metadata": {},
   "outputs": [],
   "source": [
    "BN = SimpleBN()\n",
    "BN.add_var_val('B', ['B is not the culprit', 'B is the culprit'])\n",
    "BN.add_factor('B', [.4, .6])\n",
    "BN.add_var_val('M', ['M is not the culprit', 'M is the culprit'])\n",
    "BN.add_factor('M', [.8, .2])\n",
    "BN.add_var_val('K', ['knife is not used', 'knife is used'])\n",
    "BN.add_factor('K', [\n",
    "    [.7, .3],\n",
    "    [.8, .2],\n",
    "    [.4, .6],\n",
    "    [.9, .1],\n",
    "], parents=['B', 'M'])"
   ]
  },
  {
   "cell_type": "code",
   "execution_count": 3,
   "metadata": {},
   "outputs": [
    {
     "data": {
      "text/plain": [
       "(B is not the culprit,)    0.271845\n",
       "(B is the culprit,)        0.728155\n",
       "dtype: float64"
      ]
     },
     "execution_count": 3,
     "metadata": {},
     "output_type": "execute_result"
    }
   ],
   "source": [
    "BN.get_table(['B'], evidence={'K': 'knife is used'})"
   ]
  },
  {
   "cell_type": "code",
   "execution_count": 4,
   "metadata": {},
   "outputs": [],
   "source": [
    "BN = SimpleBN()\n",
    "BN.add_var_val('A', [0,1])\n",
    "BN.add_factor('A', [.35,.65])\n",
    "BN.add_var_val('B', [0,1])\n",
    "BN.add_factor('B', [.23,.77])\n",
    "BN.add_var_val('C', [0,1])\n",
    "BN.add_factor('C', [\n",
    "    [.9, .1],\n",
    "    [.01, .99],\n",
    "    [.2, .8],\n",
    "    [.75, .25]\n",
    "], parents = ['A','B'])"
   ]
  },
  {
   "cell_type": "code",
   "execution_count": 5,
   "metadata": {},
   "outputs": [
    {
     "data": {
      "text/plain": [
       "(0,)    0.156415\n",
       "(1,)    0.843585\n",
       "dtype: float64"
      ]
     },
     "execution_count": 5,
     "metadata": {},
     "output_type": "execute_result"
    }
   ],
   "source": [
    "BN.get_table(['A'], evidence={'C': 0})"
   ]
  },
  {
   "cell_type": "code",
   "execution_count": 6,
   "metadata": {},
   "outputs": [
    {
     "name": "stdout",
     "output_type": "stream",
     "text": [
      "-0.2063492063492064 78.36507936507935\n"
     ]
    }
   ],
   "source": [
    "Pc1 = 1/pm.comb(9,4)\n",
    "Pc2 = 1/pm.comb(9,4)\n",
    "Ppc1 = 1/100\n",
    "Ppc2 = 1/10000\n",
    "n = 1000000\n",
    "reward = 1000000\n",
    "entry = 1\n",
    "Ec1win = Pc1*(reward/(n*Ppc1)-entry)+(1-Pc1)*(-entry)\n",
    "Ec2win = Pc2*(reward/(n*Ppc2)-entry)+(1-Pc2)*(-entry)\n",
    "print(Ec1win, Ec2win)"
   ]
  },
  {
   "cell_type": "code",
   "execution_count": 10,
   "metadata": {},
   "outputs": [
    {
     "data": {
      "text/plain": [
       "115.0"
      ]
     },
     "execution_count": 10,
     "metadata": {},
     "output_type": "execute_result"
    }
   ],
   "source": [
    "n = 5\n",
    "result = pm.perm(n, n)\n",
    "for i in range(1, n+1):\n",
    "    result += pm.comb(n,i)*(n-i)*(-1)**i\n",
    "result "
   ]
  },
  {
   "cell_type": "code",
   "execution_count": 8,
   "metadata": {},
   "outputs": [
    {
     "data": {
      "text/plain": [
       "120.0"
      ]
     },
     "execution_count": 8,
     "metadata": {},
     "output_type": "execute_result"
    }
   ],
   "source": [
    "pm.comb(7+4-1, 7)"
   ]
  },
  {
   "cell_type": "code",
   "execution_count": 13,
   "metadata": {},
   "outputs": [
    {
     "data": {
      "text/plain": [
       "0.4285714285714286"
      ]
     },
     "execution_count": 13,
     "metadata": {},
     "output_type": "execute_result"
    }
   ],
   "source": [
    ".15/(.15+.2)"
   ]
  },
  {
   "cell_type": "code",
   "execution_count": 14,
   "metadata": {},
   "outputs": [
    {
     "data": {
      "text/plain": [
       "0.6499999999999999"
      ]
     },
     "execution_count": 14,
     "metadata": {},
     "output_type": "execute_result"
    }
   ],
   "source": [
    ".7*.5+.6*.5"
   ]
  },
  {
   "cell_type": "code",
   "execution_count": 15,
   "metadata": {},
   "outputs": [
    {
     "data": {
      "text/plain": [
       "0.6666666666666666"
      ]
     },
     "execution_count": 15,
     "metadata": {},
     "output_type": "execute_result"
    }
   ],
   "source": [
    ".6/.9"
   ]
  },
  {
   "cell_type": "code",
   "execution_count": null,
   "metadata": {},
   "outputs": [],
   "source": []
  }
 ],
 "metadata": {
  "kernelspec": {
   "display_name": "base",
   "language": "python",
   "name": "python3"
  },
  "language_info": {
   "codemirror_mode": {
    "name": "ipython",
    "version": 3
   },
   "file_extension": ".py",
   "mimetype": "text/x-python",
   "name": "python",
   "nbconvert_exporter": "python",
   "pygments_lexer": "ipython3",
   "version": "3.7.4"
  }
 },
 "nbformat": 4,
 "nbformat_minor": 2
}
